{
 "cells": [
  {
   "cell_type": "code",
   "execution_count": 1,
   "id": "259671a3",
   "metadata": {},
   "outputs": [],
   "source": [
    "import os\n",
    "import openai"
   ]
  },
  {
   "cell_type": "code",
   "execution_count": 2,
   "id": "d0f46747",
   "metadata": {},
   "outputs": [],
   "source": [
    "openai_key = os.environ.get(\"Openai_APi_key\")"
   ]
  },
  {
   "cell_type": "code",
   "execution_count": 13,
   "id": "c0b7cd75",
   "metadata": {},
   "outputs": [],
   "source": [
    "MyPrompt = \"Correct this to standard English:\\n\\nMy grammar are bad.\""
   ]
  },
  {
   "cell_type": "code",
   "execution_count": 14,
   "id": "e3e99eb7",
   "metadata": {},
   "outputs": [],
   "source": [
    "response = openai.Completion.create(\n",
    "  engine=\"text-davinci-001\",\n",
    "  prompt= MyPrompt,\n",
    "  temperature=0,\n",
    "  max_tokens=60,\n",
    "  top_p=1.0,\n",
    "  frequency_penalty=0.0,\n",
    "  presence_penalty=0.0\n",
    ")"
   ]
  },
  {
   "cell_type": "code",
   "execution_count": 15,
   "id": "bf55ecf5",
   "metadata": {},
   "outputs": [
    {
     "name": "stdout",
     "output_type": "stream",
     "text": [
      "{\n",
      "  \"choices\": [\n",
      "    {\n",
      "      \"finish_reason\": \"stop\",\n",
      "      \"index\": 0,\n",
      "      \"logprobs\": null,\n",
      "      \"text\": \"\\n\\nMy grammar is bad.\"\n",
      "    }\n",
      "  ],\n",
      "  \"created\": 1644239430,\n",
      "  \"id\": \"cmpl-4Yy4k800hOr3yB7QCVnSSYgrKQSg9\",\n",
      "  \"model\": \"text-davinci:001\",\n",
      "  \"object\": \"text_completion\"\n",
      "}\n"
     ]
    }
   ],
   "source": [
    "print(response)"
   ]
  },
  {
   "cell_type": "code",
   "execution_count": null,
   "id": "ae7722ba",
   "metadata": {},
   "outputs": [],
   "source": []
  }
 ],
 "metadata": {
  "kernelspec": {
   "display_name": "Python 3",
   "language": "python",
   "name": "python3"
  },
  "language_info": {
   "codemirror_mode": {
    "name": "ipython",
    "version": 3
   },
   "file_extension": ".py",
   "mimetype": "text/x-python",
   "name": "python",
   "nbconvert_exporter": "python",
   "pygments_lexer": "ipython3",
   "version": "3.8.8"
  }
 },
 "nbformat": 4,
 "nbformat_minor": 5
}
